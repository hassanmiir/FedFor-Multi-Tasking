{
 "cells": [
  {
   "cell_type": "code",
   "execution_count": 41,
   "metadata": {},
   "outputs": [],
   "source": [
    "import numpy as np\n",
    "import pandas as pd\n",
    "import tensorflow as tf\n",
    "from tensorflow import keras\n",
    "from tensorflow.keras.models import Sequential\n",
    "from tensorflow.keras.layers import Conv1D, Flatten, Dense\n",
    "from sklearn.model_selection import train_test_split\n",
    "from sklearn.preprocessing import MinMaxScaler\n",
    "from tensorflow.keras.layers import Attention, Flatten\n"
   ]
  },
  {
   "cell_type": "code",
   "execution_count": 18,
   "metadata": {},
   "outputs": [],
   "source": [
    "# Set random seed for reproducibility\n",
    "seed = 7\n",
    "tf.random.set_seed(seed)"
   ]
  },
  {
   "cell_type": "code",
   "execution_count": 19,
   "metadata": {},
   "outputs": [],
   "source": [
    "# Load data\n",
    "file_path = '/home/disi/ff/Datasets/Dataset_3/Occupancy_Estimation.csv'\n",
    "data = pd.read_csv(file_path)\n"
   ]
  },
  {
   "cell_type": "code",
   "execution_count": 44,
   "metadata": {},
   "outputs": [],
   "source": [
    "# Define input features and label\n",
    "input_columns = ['S1_Temp', 'S2_Temp', 'S3_Temp', 'S4_Temp', 'S1_Light', 'S2_Light', 'S3_Light', 'S4_Light',\n",
    "                 'S1_Sound', 'S2_Sound', 'S3_Sound', 'S4_Sound', 'S5_CO2', 'S5_CO2_Slope', 'S6_PIR', 'S7_PIR']\n",
    "label_column = 'Room_Occupancy_Count'"
   ]
  },
  {
   "cell_type": "code",
   "execution_count": 45,
   "metadata": {},
   "outputs": [],
   "source": [
    "# Data preprocessing\n",
    "scaler = MinMaxScaler()\n",
    "scaled = scaler.fit_transform(data[input_columns])\n",
    "label = data[label_column].values"
   ]
  },
  {
   "cell_type": "code",
   "execution_count": 46,
   "metadata": {},
   "outputs": [],
   "source": [
    "# Splitting the data\n",
    "X_train, X_test, y_train, y_test = train_test_split(scaled, label, test_size=0.3, random_state=42, stratify=label)\n",
    "\n"
   ]
  },
  {
   "cell_type": "code",
   "execution_count": 47,
   "metadata": {},
   "outputs": [],
   "source": [
    "# Reshape X_train for the model\n",
    "X_train = X_train.reshape((X_train.shape[0], 1, len(input_columns)))"
   ]
  },
  {
   "cell_type": "code",
   "execution_count": 48,
   "metadata": {},
   "outputs": [],
   "source": [
    "# Model configuration\n",
    "EPOCHS = 50\n",
    "BATCH = 32\n",
    "input_shape = (X_train.shape[1], len(input_columns))"
   ]
  },
  {
   "cell_type": "code",
   "execution_count": 55,
   "metadata": {},
   "outputs": [
    {
     "ename": "ValueError",
     "evalue": "Input 0 of layer \"conv1d_12\" is incompatible with the layer: expected min_ndim=3, found ndim=2. Full shape received: (None, 32)",
     "output_type": "error",
     "traceback": [
      "\u001b[0;31m---------------------------------------------------------------------------\u001b[0m",
      "\u001b[0;31mValueError\u001b[0m                                Traceback (most recent call last)",
      "Cell \u001b[0;32mIn[55], line 5\u001b[0m\n\u001b[1;32m      3\u001b[0m model\u001b[39m.\u001b[39madd(Conv1D(filters\u001b[39m=\u001b[39m\u001b[39m32\u001b[39m, kernel_size\u001b[39m=\u001b[39m\u001b[39m3\u001b[39m, activation\u001b[39m=\u001b[39m\u001b[39m'\u001b[39m\u001b[39mrelu\u001b[39m\u001b[39m'\u001b[39m, input_shape\u001b[39m=\u001b[39minput_shape, padding\u001b[39m=\u001b[39m\u001b[39m\"\u001b[39m\u001b[39msame\u001b[39m\u001b[39m\"\u001b[39m))\n\u001b[1;32m      4\u001b[0m model\u001b[39m.\u001b[39madd(Flatten())\n\u001b[0;32m----> 5\u001b[0m model\u001b[39m.\u001b[39;49madd(Conv1D(filters\u001b[39m=\u001b[39;49m\u001b[39m16\u001b[39;49m, kernel_size\u001b[39m=\u001b[39;49m\u001b[39m3\u001b[39;49m, activation\u001b[39m=\u001b[39;49m\u001b[39m'\u001b[39;49m\u001b[39mrelu\u001b[39;49m\u001b[39m'\u001b[39;49m, input_shape\u001b[39m=\u001b[39;49minput_shape, padding\u001b[39m=\u001b[39;49m\u001b[39m\"\u001b[39;49m\u001b[39msame\u001b[39;49m\u001b[39m\"\u001b[39;49m))\n\u001b[1;32m      6\u001b[0m model\u001b[39m.\u001b[39madd(Flatten())\n\u001b[1;32m      7\u001b[0m model\u001b[39m.\u001b[39madd(Conv1D(filters\u001b[39m=\u001b[39m\u001b[39m8\u001b[39m, kernel_size\u001b[39m=\u001b[39m\u001b[39m3\u001b[39m, activation\u001b[39m=\u001b[39m\u001b[39m'\u001b[39m\u001b[39mrelu\u001b[39m\u001b[39m'\u001b[39m, input_shape\u001b[39m=\u001b[39minput_shape, padding\u001b[39m=\u001b[39m\u001b[39m\"\u001b[39m\u001b[39msame\u001b[39m\u001b[39m\"\u001b[39m))\n",
      "File \u001b[0;32m~/anaconda3/envs/ff/lib/python3.9/site-packages/tensorflow/python/trackable/base.py:204\u001b[0m, in \u001b[0;36mno_automatic_dependency_tracking.<locals>._method_wrapper\u001b[0;34m(self, *args, **kwargs)\u001b[0m\n\u001b[1;32m    202\u001b[0m \u001b[39mself\u001b[39m\u001b[39m.\u001b[39m_self_setattr_tracking \u001b[39m=\u001b[39m \u001b[39mFalse\u001b[39;00m  \u001b[39m# pylint: disable=protected-access\u001b[39;00m\n\u001b[1;32m    203\u001b[0m \u001b[39mtry\u001b[39;00m:\n\u001b[0;32m--> 204\u001b[0m   result \u001b[39m=\u001b[39m method(\u001b[39mself\u001b[39;49m, \u001b[39m*\u001b[39;49margs, \u001b[39m*\u001b[39;49m\u001b[39m*\u001b[39;49mkwargs)\n\u001b[1;32m    205\u001b[0m \u001b[39mfinally\u001b[39;00m:\n\u001b[1;32m    206\u001b[0m   \u001b[39mself\u001b[39m\u001b[39m.\u001b[39m_self_setattr_tracking \u001b[39m=\u001b[39m previous_value  \u001b[39m# pylint: disable=protected-access\u001b[39;00m\n",
      "File \u001b[0;32m~/anaconda3/envs/ff/lib/python3.9/site-packages/keras/src/utils/traceback_utils.py:70\u001b[0m, in \u001b[0;36mfilter_traceback.<locals>.error_handler\u001b[0;34m(*args, **kwargs)\u001b[0m\n\u001b[1;32m     67\u001b[0m     filtered_tb \u001b[39m=\u001b[39m _process_traceback_frames(e\u001b[39m.\u001b[39m__traceback__)\n\u001b[1;32m     68\u001b[0m     \u001b[39m# To get the full stack trace, call:\u001b[39;00m\n\u001b[1;32m     69\u001b[0m     \u001b[39m# `tf.debugging.disable_traceback_filtering()`\u001b[39;00m\n\u001b[0;32m---> 70\u001b[0m     \u001b[39mraise\u001b[39;00m e\u001b[39m.\u001b[39mwith_traceback(filtered_tb) \u001b[39mfrom\u001b[39;00m \u001b[39mNone\u001b[39;00m\n\u001b[1;32m     71\u001b[0m \u001b[39mfinally\u001b[39;00m:\n\u001b[1;32m     72\u001b[0m     \u001b[39mdel\u001b[39;00m filtered_tb\n",
      "File \u001b[0;32m~/anaconda3/envs/ff/lib/python3.9/site-packages/keras/src/engine/input_spec.py:253\u001b[0m, in \u001b[0;36massert_input_compatibility\u001b[0;34m(input_spec, inputs, layer_name)\u001b[0m\n\u001b[1;32m    251\u001b[0m     ndim \u001b[39m=\u001b[39m x\u001b[39m.\u001b[39mshape\u001b[39m.\u001b[39mrank\n\u001b[1;32m    252\u001b[0m     \u001b[39mif\u001b[39;00m ndim \u001b[39mis\u001b[39;00m \u001b[39mnot\u001b[39;00m \u001b[39mNone\u001b[39;00m \u001b[39mand\u001b[39;00m ndim \u001b[39m<\u001b[39m spec\u001b[39m.\u001b[39mmin_ndim:\n\u001b[0;32m--> 253\u001b[0m         \u001b[39mraise\u001b[39;00m \u001b[39mValueError\u001b[39;00m(\n\u001b[1;32m    254\u001b[0m             \u001b[39mf\u001b[39m\u001b[39m'\u001b[39m\u001b[39mInput \u001b[39m\u001b[39m{\u001b[39;00minput_index\u001b[39m}\u001b[39;00m\u001b[39m of layer \u001b[39m\u001b[39m\"\u001b[39m\u001b[39m{\u001b[39;00mlayer_name\u001b[39m}\u001b[39;00m\u001b[39m\"\u001b[39m\u001b[39m \u001b[39m\u001b[39m'\u001b[39m\n\u001b[1;32m    255\u001b[0m             \u001b[39m\"\u001b[39m\u001b[39mis incompatible with the layer: \u001b[39m\u001b[39m\"\u001b[39m\n\u001b[1;32m    256\u001b[0m             \u001b[39mf\u001b[39m\u001b[39m\"\u001b[39m\u001b[39mexpected min_ndim=\u001b[39m\u001b[39m{\u001b[39;00mspec\u001b[39m.\u001b[39mmin_ndim\u001b[39m}\u001b[39;00m\u001b[39m, \u001b[39m\u001b[39m\"\u001b[39m\n\u001b[1;32m    257\u001b[0m             \u001b[39mf\u001b[39m\u001b[39m\"\u001b[39m\u001b[39mfound ndim=\u001b[39m\u001b[39m{\u001b[39;00mndim\u001b[39m}\u001b[39;00m\u001b[39m. \u001b[39m\u001b[39m\"\u001b[39m\n\u001b[1;32m    258\u001b[0m             \u001b[39mf\u001b[39m\u001b[39m\"\u001b[39m\u001b[39mFull shape received: \u001b[39m\u001b[39m{\u001b[39;00m\u001b[39mtuple\u001b[39m(shape)\u001b[39m}\u001b[39;00m\u001b[39m\"\u001b[39m\n\u001b[1;32m    259\u001b[0m         )\n\u001b[1;32m    260\u001b[0m \u001b[39m# Check dtype.\u001b[39;00m\n\u001b[1;32m    261\u001b[0m \u001b[39mif\u001b[39;00m spec\u001b[39m.\u001b[39mdtype \u001b[39mis\u001b[39;00m \u001b[39mnot\u001b[39;00m \u001b[39mNone\u001b[39;00m:\n",
      "\u001b[0;31mValueError\u001b[0m: Input 0 of layer \"conv1d_12\" is incompatible with the layer: expected min_ndim=3, found ndim=2. Full shape received: (None, 32)"
     ]
    }
   ],
   "source": [
    "# Build the model\n",
    "model = Sequential()\n",
    "model.add(Conv1D(filters=32, kernel_size=3, activation='relu', input_shape=input_shape, padding=\"same\"))\n",
    "model.add(Flatten())\n",
    "model.add(Conv1D(filters=16, kernel_size=3, activation='relu', input_shape=input_shape, padding=\"same\"))\n",
    "model.add(Flatten())\n",
    "model.add(Conv1D(filters=8, kernel_size=3, activation='relu', input_shape=input_shape, padding=\"same\"))\n",
    "model.add(Flatten())\n",
    "model.add(Dense(32, activation='relu'))\n",
    "model.add(Dense(units=1, activation='sigmoid'))\n",
    "model.compile(loss='binary_crossentropy', optimizer='adam', metrics=['accuracy'])\n",
    "\n",
    "# Model summary\n",
    "print(model.summary())"
   ]
  },
  {
   "cell_type": "code",
   "execution_count": 51,
   "metadata": {},
   "outputs": [],
   "source": [
    "# Save model path\n",
    "directory = '/home/disi/ff/Datasets/Dataset_3/'\n",
    "main_yontem_name = 'CNNdense_'\n",
    "yontem_name = main_yontem_name\n",
    "model_path = directory + yontem_name + '.h5'"
   ]
  },
  {
   "cell_type": "code",
   "execution_count": 52,
   "metadata": {},
   "outputs": [
    {
     "name": "stdout",
     "output_type": "stream",
     "text": [
      "Epoch 1/50\n",
      "178/178 [==============================] - 1s 2ms/step - loss: -0.8390 - accuracy: 0.7255 - val_loss: -4.5001 - val_accuracy: 0.7609\n",
      "Epoch 2/50\n",
      "122/178 [===================>..........] - ETA: 0s - loss: -14.9925 - accuracy: 0.7049"
     ]
    },
    {
     "name": "stderr",
     "output_type": "stream",
     "text": [
      "/home/disi/anaconda3/envs/ff/lib/python3.9/site-packages/keras/src/engine/training.py:3103: UserWarning: You are saving your model as an HDF5 file via `model.save()`. This file format is considered legacy. We recommend using instead the native Keras format, e.g. `model.save('my_model.keras')`.\n",
      "  saving_api.save_model(\n"
     ]
    },
    {
     "name": "stdout",
     "output_type": "stream",
     "text": [
      "178/178 [==============================] - 0s 2ms/step - loss: -21.5752 - accuracy: 0.6985 - val_loss: -42.4190 - val_accuracy: 0.7306\n",
      "Epoch 3/50\n",
      "178/178 [==============================] - 0s 2ms/step - loss: -95.9742 - accuracy: 0.6849 - val_loss: -146.5961 - val_accuracy: 0.7087\n",
      "Epoch 4/50\n",
      "178/178 [==============================] - 0s 2ms/step - loss: -264.7285 - accuracy: 0.6809 - val_loss: -349.9749 - val_accuracy: 0.6982\n",
      "Epoch 5/50\n",
      "178/178 [==============================] - 0s 2ms/step - loss: -555.5857 - accuracy: 0.6797 - val_loss: -677.7444 - val_accuracy: 0.6996\n",
      "Epoch 6/50\n",
      "178/178 [==============================] - 0s 2ms/step - loss: -992.9498 - accuracy: 0.6789 - val_loss: -1140.6007 - val_accuracy: 0.7193\n",
      "Epoch 7/50\n",
      "178/178 [==============================] - 0s 2ms/step - loss: -1588.0519 - accuracy: 0.6846 - val_loss: -1753.3234 - val_accuracy: 0.7080\n",
      "Epoch 8/50\n",
      "178/178 [==============================] - 0s 2ms/step - loss: -2365.2141 - accuracy: 0.6804 - val_loss: -2535.5266 - val_accuracy: 0.7038\n",
      "Epoch 9/50\n",
      "178/178 [==============================] - 0s 2ms/step - loss: -3345.3269 - accuracy: 0.6767 - val_loss: -3505.0637 - val_accuracy: 0.6932\n",
      "Epoch 10/50\n",
      "178/178 [==============================] - 0s 2ms/step - loss: -4528.8267 - accuracy: 0.6805 - val_loss: -4650.3291 - val_accuracy: 0.6819\n",
      "Epoch 11/50\n",
      "178/178 [==============================] - 0s 2ms/step - loss: -5926.8970 - accuracy: 0.6715 - val_loss: -6009.1650 - val_accuracy: 0.7038\n",
      "Epoch 12/50\n",
      "178/178 [==============================] - 0s 2ms/step - loss: -7539.8130 - accuracy: 0.6802 - val_loss: -7539.9590 - val_accuracy: 0.6932\n",
      "Epoch 13/50\n",
      "178/178 [==============================] - 0s 2ms/step - loss: -9359.1797 - accuracy: 0.6752 - val_loss: -9308.0586 - val_accuracy: 0.7003\n",
      "Epoch 14/50\n",
      "178/178 [==============================] - 0s 2ms/step - loss: -11434.1729 - accuracy: 0.6809 - val_loss: -11273.9990 - val_accuracy: 0.6989\n",
      "Epoch 15/50\n",
      "178/178 [==============================] - 0s 2ms/step - loss: -13746.3594 - accuracy: 0.6807 - val_loss: -13479.1934 - val_accuracy: 0.6918\n",
      "Epoch 16/50\n",
      "178/178 [==============================] - 0s 2ms/step - loss: -16304.6670 - accuracy: 0.6751 - val_loss: -15872.8311 - val_accuracy: 0.6989\n",
      "Epoch 17/50\n",
      "178/178 [==============================] - 0s 2ms/step - loss: -19126.8496 - accuracy: 0.6800 - val_loss: -18524.2109 - val_accuracy: 0.6946\n",
      "Epoch 18/50\n",
      "178/178 [==============================] - 0s 2ms/step - loss: -22232.7520 - accuracy: 0.6804 - val_loss: -21445.0117 - val_accuracy: 0.6890\n",
      "Epoch 19/50\n",
      "178/178 [==============================] - 0s 2ms/step - loss: -25613.2715 - accuracy: 0.6744 - val_loss: -24572.2031 - val_accuracy: 0.6953\n",
      "Epoch 20/50\n",
      "178/178 [==============================] - 0s 2ms/step - loss: -29322.9062 - accuracy: 0.6791 - val_loss: -28062.5000 - val_accuracy: 0.6939\n",
      "Epoch 21/50\n",
      "178/178 [==============================] - 0s 2ms/step - loss: -33304.9531 - accuracy: 0.6767 - val_loss: -31756.9707 - val_accuracy: 0.6953\n",
      "Epoch 22/50\n",
      "178/178 [==============================] - 0s 2ms/step - loss: -37560.0078 - accuracy: 0.6807 - val_loss: -35707.4727 - val_accuracy: 0.6953\n",
      "Epoch 23/50\n",
      "178/178 [==============================] - 0s 2ms/step - loss: -42129.2344 - accuracy: 0.6784 - val_loss: -39943.0859 - val_accuracy: 0.6932\n",
      "Epoch 24/50\n",
      "178/178 [==============================] - 0s 2ms/step - loss: -46923.6523 - accuracy: 0.6795 - val_loss: -44368.9023 - val_accuracy: 0.6953\n",
      "Epoch 25/50\n",
      "178/178 [==============================] - 0s 2ms/step - loss: -51981.2812 - accuracy: 0.6805 - val_loss: -49060.9531 - val_accuracy: 0.6939\n",
      "Epoch 26/50\n",
      "178/178 [==============================] - 0s 2ms/step - loss: -57348.4180 - accuracy: 0.6797 - val_loss: -53994.9219 - val_accuracy: 0.6961\n",
      "Epoch 27/50\n",
      "178/178 [==============================] - 0s 2ms/step - loss: -63017.5234 - accuracy: 0.6825 - val_loss: -59186.7344 - val_accuracy: 0.7024\n",
      "Epoch 28/50\n",
      "178/178 [==============================] - 0s 2ms/step - loss: -68999.2969 - accuracy: 0.6823 - val_loss: -64730.8984 - val_accuracy: 0.6961\n",
      "Epoch 29/50\n",
      "178/178 [==============================] - 0s 2ms/step - loss: -75309.9531 - accuracy: 0.6788 - val_loss: -70575.0234 - val_accuracy: 0.6968\n",
      "Epoch 30/50\n",
      "178/178 [==============================] - 0s 2ms/step - loss: -82009.5156 - accuracy: 0.6819 - val_loss: -76684.5703 - val_accuracy: 0.6975\n",
      "Epoch 31/50\n",
      "178/178 [==============================] - 0s 2ms/step - loss: -89052.0469 - accuracy: 0.6807 - val_loss: -83178.5938 - val_accuracy: 0.7003\n",
      "Epoch 32/50\n",
      "178/178 [==============================] - 0s 2ms/step - loss: -96393.3906 - accuracy: 0.6823 - val_loss: -89899.8672 - val_accuracy: 0.6996\n",
      "Epoch 33/50\n",
      "178/178 [==============================] - 0s 2ms/step - loss: -104061.4922 - accuracy: 0.6814 - val_loss: -96988.4219 - val_accuracy: 0.7003\n",
      "Epoch 34/50\n",
      "178/178 [==============================] - 0s 2ms/step - loss: -112132.9609 - accuracy: 0.6830 - val_loss: -104319.1406 - val_accuracy: 0.7024\n",
      "Epoch 35/50\n",
      "178/178 [==============================] - 0s 2ms/step - loss: -120573.7578 - accuracy: 0.6811 - val_loss: -112157.2031 - val_accuracy: 0.6989\n",
      "Epoch 36/50\n",
      "178/178 [==============================] - 0s 2ms/step - loss: -129416.8672 - accuracy: 0.6811 - val_loss: -120229.8438 - val_accuracy: 0.6975\n",
      "Epoch 37/50\n",
      "178/178 [==============================] - 0s 2ms/step - loss: -138617.5781 - accuracy: 0.6823 - val_loss: -128703.8516 - val_accuracy: 0.6968\n",
      "Epoch 38/50\n",
      "178/178 [==============================] - 0s 2ms/step - loss: -148134.1875 - accuracy: 0.6816 - val_loss: -137340.2500 - val_accuracy: 0.6975\n",
      "Epoch 39/50\n",
      "178/178 [==============================] - 0s 2ms/step - loss: -158028.1562 - accuracy: 0.6827 - val_loss: -146385.5625 - val_accuracy: 0.6975\n",
      "Epoch 40/50\n",
      "178/178 [==============================] - 0s 2ms/step - loss: -168346.1719 - accuracy: 0.6819 - val_loss: -155847.2969 - val_accuracy: 0.6946\n",
      "Epoch 41/50\n",
      "178/178 [==============================] - 0s 2ms/step - loss: -178995.1562 - accuracy: 0.6804 - val_loss: -165568.1094 - val_accuracy: 0.6989\n",
      "Epoch 42/50\n",
      "178/178 [==============================] - 0s 2ms/step - loss: -190077.3750 - accuracy: 0.6809 - val_loss: -175630.0781 - val_accuracy: 0.6975\n",
      "Epoch 43/50\n",
      "178/178 [==============================] - 0s 2ms/step - loss: -201596.5938 - accuracy: 0.6821 - val_loss: -186097.3438 - val_accuracy: 0.6989\n",
      "Epoch 44/50\n",
      "178/178 [==============================] - 0s 2ms/step - loss: -213395.3438 - accuracy: 0.6795 - val_loss: -196904.2344 - val_accuracy: 0.7003\n",
      "Epoch 45/50\n",
      "178/178 [==============================] - 0s 2ms/step - loss: -225611.9531 - accuracy: 0.6812 - val_loss: -208075.7969 - val_accuracy: 0.7038\n",
      "Epoch 46/50\n",
      "178/178 [==============================] - 0s 2ms/step - loss: -238259.3594 - accuracy: 0.6825 - val_loss: -219638.6094 - val_accuracy: 0.7038\n",
      "Epoch 47/50\n",
      "178/178 [==============================] - 0s 2ms/step - loss: -251406.4688 - accuracy: 0.6828 - val_loss: -231663.4375 - val_accuracy: 0.7024\n",
      "Epoch 48/50\n",
      "178/178 [==============================] - 0s 2ms/step - loss: -264938.6875 - accuracy: 0.6841 - val_loss: -243959.1562 - val_accuracy: 0.6989\n",
      "Epoch 49/50\n",
      "178/178 [==============================] - 0s 2ms/step - loss: -278986.4062 - accuracy: 0.6834 - val_loss: -256819.0625 - val_accuracy: 0.6989\n",
      "Epoch 50/50\n",
      "178/178 [==============================] - 0s 2ms/step - loss: -293542.8438 - accuracy: 0.6800 - val_loss: -270084.1875 - val_accuracy: 0.6989\n"
     ]
    }
   ],
   "source": [
    "# Model training\n",
    "history = model.fit(X_train, y_train, epochs=EPOCHS, batch_size=BATCH, validation_split=0.2, verbose=1,\n",
    "                    callbacks=[keras.callbacks.EarlyStopping(monitor='val_loss', min_delta=0, patience=50, mode='min'),\n",
    "                               keras.callbacks.ModelCheckpoint(model_path, monitor='val_loss', save_best_only=True, mode='min', verbose=0)])"
   ]
  },
  {
   "cell_type": "code",
   "execution_count": 54,
   "metadata": {},
   "outputs": [
    {
     "ename": "ValueError",
     "evalue": "Input 0 of layer \"lstm\" is incompatible with the layer: expected ndim=3, found ndim=2. Full shape received: (None, 16)",
     "output_type": "error",
     "traceback": [
      "\u001b[0;31m---------------------------------------------------------------------------\u001b[0m",
      "\u001b[0;31mValueError\u001b[0m                                Traceback (most recent call last)",
      "Cell \u001b[0;32mIn[54], line 2\u001b[0m\n\u001b[1;32m      1\u001b[0m model \u001b[39m=\u001b[39m Sequential()\n\u001b[0;32m----> 2\u001b[0m model\u001b[39m.\u001b[39;49madd(LSTM(input_shape \u001b[39m=\u001b[39;49m input_shape[\u001b[39m1\u001b[39;49m:], units \u001b[39m=\u001b[39;49m \u001b[39m32\u001b[39;49m ,return_sequences\u001b[39m=\u001b[39;49m\u001b[39mFalse\u001b[39;49;00m))  \n\u001b[1;32m      3\u001b[0m model\u001b[39m.\u001b[39madd(Dense(\u001b[39m32\u001b[39m, activation \u001b[39m=\u001b[39m \u001b[39m'\u001b[39m\u001b[39mrelu\u001b[39m\u001b[39m'\u001b[39m))    \n\u001b[1;32m      4\u001b[0m model\u001b[39m.\u001b[39madd(Dense(units\u001b[39m=\u001b[39m\u001b[39m1\u001b[39m, activation \u001b[39m=\u001b[39m \u001b[39m'\u001b[39m\u001b[39msigmoid\u001b[39m\u001b[39m'\u001b[39m))\n",
      "File \u001b[0;32m~/anaconda3/envs/ff/lib/python3.9/site-packages/tensorflow/python/trackable/base.py:204\u001b[0m, in \u001b[0;36mno_automatic_dependency_tracking.<locals>._method_wrapper\u001b[0;34m(self, *args, **kwargs)\u001b[0m\n\u001b[1;32m    202\u001b[0m \u001b[39mself\u001b[39m\u001b[39m.\u001b[39m_self_setattr_tracking \u001b[39m=\u001b[39m \u001b[39mFalse\u001b[39;00m  \u001b[39m# pylint: disable=protected-access\u001b[39;00m\n\u001b[1;32m    203\u001b[0m \u001b[39mtry\u001b[39;00m:\n\u001b[0;32m--> 204\u001b[0m   result \u001b[39m=\u001b[39m method(\u001b[39mself\u001b[39;49m, \u001b[39m*\u001b[39;49margs, \u001b[39m*\u001b[39;49m\u001b[39m*\u001b[39;49mkwargs)\n\u001b[1;32m    205\u001b[0m \u001b[39mfinally\u001b[39;00m:\n\u001b[1;32m    206\u001b[0m   \u001b[39mself\u001b[39m\u001b[39m.\u001b[39m_self_setattr_tracking \u001b[39m=\u001b[39m previous_value  \u001b[39m# pylint: disable=protected-access\u001b[39;00m\n",
      "File \u001b[0;32m~/anaconda3/envs/ff/lib/python3.9/site-packages/keras/src/utils/traceback_utils.py:70\u001b[0m, in \u001b[0;36mfilter_traceback.<locals>.error_handler\u001b[0;34m(*args, **kwargs)\u001b[0m\n\u001b[1;32m     67\u001b[0m     filtered_tb \u001b[39m=\u001b[39m _process_traceback_frames(e\u001b[39m.\u001b[39m__traceback__)\n\u001b[1;32m     68\u001b[0m     \u001b[39m# To get the full stack trace, call:\u001b[39;00m\n\u001b[1;32m     69\u001b[0m     \u001b[39m# `tf.debugging.disable_traceback_filtering()`\u001b[39;00m\n\u001b[0;32m---> 70\u001b[0m     \u001b[39mraise\u001b[39;00m e\u001b[39m.\u001b[39mwith_traceback(filtered_tb) \u001b[39mfrom\u001b[39;00m \u001b[39mNone\u001b[39;00m\n\u001b[1;32m     71\u001b[0m \u001b[39mfinally\u001b[39;00m:\n\u001b[1;32m     72\u001b[0m     \u001b[39mdel\u001b[39;00m filtered_tb\n",
      "File \u001b[0;32m~/anaconda3/envs/ff/lib/python3.9/site-packages/keras/src/engine/input_spec.py:235\u001b[0m, in \u001b[0;36massert_input_compatibility\u001b[0;34m(input_spec, inputs, layer_name)\u001b[0m\n\u001b[1;32m    233\u001b[0m     ndim \u001b[39m=\u001b[39m shape\u001b[39m.\u001b[39mrank\n\u001b[1;32m    234\u001b[0m     \u001b[39mif\u001b[39;00m ndim \u001b[39m!=\u001b[39m spec\u001b[39m.\u001b[39mndim:\n\u001b[0;32m--> 235\u001b[0m         \u001b[39mraise\u001b[39;00m \u001b[39mValueError\u001b[39;00m(\n\u001b[1;32m    236\u001b[0m             \u001b[39mf\u001b[39m\u001b[39m'\u001b[39m\u001b[39mInput \u001b[39m\u001b[39m{\u001b[39;00minput_index\u001b[39m}\u001b[39;00m\u001b[39m of layer \u001b[39m\u001b[39m\"\u001b[39m\u001b[39m{\u001b[39;00mlayer_name\u001b[39m}\u001b[39;00m\u001b[39m\"\u001b[39m\u001b[39m \u001b[39m\u001b[39m'\u001b[39m\n\u001b[1;32m    237\u001b[0m             \u001b[39m\"\u001b[39m\u001b[39mis incompatible with the layer: \u001b[39m\u001b[39m\"\u001b[39m\n\u001b[1;32m    238\u001b[0m             \u001b[39mf\u001b[39m\u001b[39m\"\u001b[39m\u001b[39mexpected ndim=\u001b[39m\u001b[39m{\u001b[39;00mspec\u001b[39m.\u001b[39mndim\u001b[39m}\u001b[39;00m\u001b[39m, found ndim=\u001b[39m\u001b[39m{\u001b[39;00mndim\u001b[39m}\u001b[39;00m\u001b[39m. \u001b[39m\u001b[39m\"\u001b[39m\n\u001b[1;32m    239\u001b[0m             \u001b[39mf\u001b[39m\u001b[39m\"\u001b[39m\u001b[39mFull shape received: \u001b[39m\u001b[39m{\u001b[39;00m\u001b[39mtuple\u001b[39m(shape)\u001b[39m}\u001b[39;00m\u001b[39m\"\u001b[39m\n\u001b[1;32m    240\u001b[0m         )\n\u001b[1;32m    241\u001b[0m \u001b[39mif\u001b[39;00m spec\u001b[39m.\u001b[39mmax_ndim \u001b[39mis\u001b[39;00m \u001b[39mnot\u001b[39;00m \u001b[39mNone\u001b[39;00m:\n\u001b[1;32m    242\u001b[0m     ndim \u001b[39m=\u001b[39m x\u001b[39m.\u001b[39mshape\u001b[39m.\u001b[39mrank\n",
      "\u001b[0;31mValueError\u001b[0m: Input 0 of layer \"lstm\" is incompatible with the layer: expected ndim=3, found ndim=2. Full shape received: (None, 16)"
     ]
    }
   ],
   "source": [
    "model = Sequential()\n",
    "model.add(LSTM(input_shape = input_shape[1:], units = 32 ,return_sequences=False))  \n",
    "model.add(Dense(32, activation = 'relu'))    \n",
    "model.add(Dense(units=1, activation = 'sigmoid'))\n",
    "model.compile(loss='binary_crossentropy', optimizer='adam', metrics=['accuracy'])\n",
    "print(model.summary())"
   ]
  }
 ],
 "metadata": {
  "kernelspec": {
   "display_name": "ff",
   "language": "python",
   "name": "python3"
  },
  "language_info": {
   "codemirror_mode": {
    "name": "ipython",
    "version": 3
   },
   "file_extension": ".py",
   "mimetype": "text/x-python",
   "name": "python",
   "nbconvert_exporter": "python",
   "pygments_lexer": "ipython3",
   "version": "3.9.18"
  },
  "orig_nbformat": 4
 },
 "nbformat": 4,
 "nbformat_minor": 2
}
